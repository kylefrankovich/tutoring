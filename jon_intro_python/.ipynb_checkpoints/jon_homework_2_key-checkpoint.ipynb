{
 "cells": [
  {
   "cell_type": "markdown",
   "metadata": {},
   "source": [
    "## Homework following intro to python lesson 2\n",
    "### In lesson two, we covered:\n",
    "* getting a jupyter notebook up and running\n",
    "* importing pandas\n",
    "* creating a dataframe\n",
    "* indexing in pandas (columns and rows)\n",
    "* operations (ex: sum) for rows/columns\n",
    "* adding new columns\n",
    "* concatenating dataframes\n",
    "***"
   ]
  },
  {
   "cell_type": "markdown",
   "metadata": {},
   "source": [
    "#### Homework 2 picks up with the remaining questions from homework 1:\n",
    "\n",
    "6 C: add a new key/value pair for each student that represents their\n",
    "final grade (average of their 3 exam scores)\n",
    "\n",
    "\n",
    "6 D: what is the class average for 8th graders? 9th graders?\n"
   ]
  },
  {
   "cell_type": "markdown",
   "metadata": {},
   "source": [
    "### Homework 2:\n",
    "\n",
    "To begin homework 2, launch a new jupyter notebook (or use this one). Answer each question, copying over code from this notebook where necessary."
   ]
  },
  {
   "cell_type": "markdown",
   "metadata": {},
   "source": [
    "### Q. 1: Import pandas and convert the dictionary below to a dataframe object called 'iris_df':"
   ]
  },
  {
   "cell_type": "code",
   "execution_count": 16,
   "metadata": {
    "collapsed": false
   },
   "outputs": [],
   "source": [
    "iris_dict = {'petal_length': {0: 1.3999999999999999,\n",
    "                  1: 1.3999999999999999,\n",
    "                  2: 1.3,\n",
    "                  3: 1.5,\n",
    "                  4: 1.3999999999999999,\n",
    "                  5: 1.7,\n",
    "                  6: 1.3999999999999999,\n",
    "                  7: 1.5,\n",
    "                  8: 1.3999999999999999,\n",
    "                  9: 1.5},\n",
    " 'petal_width': {0: 0.20000000000000001,\n",
    "                 1: 0.20000000000000001,\n",
    "                 2: 0.20000000000000001,\n",
    "                 3: 0.20000000000000001,\n",
    "                 4: 0.20000000000000001,\n",
    "                 5: 0.40000000000000002,\n",
    "                 6: 0.29999999999999999,\n",
    "                 7: 0.20000000000000001,\n",
    "                 8: 0.20000000000000001,\n",
    "                 9: 0.10000000000000001},\n",
    " 'sepal_length': {0: 5.0999999999999996,\n",
    "                  1: 4.9000000000000004,\n",
    "                  2: 4.7000000000000002,\n",
    "                  3: 4.5999999999999996,\n",
    "                  4: 5.0,\n",
    "                  5: 5.4000000000000004,\n",
    "                  6: 4.5999999999999996,\n",
    "                  7: 5.0,\n",
    "                  8: 4.4000000000000004,\n",
    "                  9: 4.9000000000000004},\n",
    " 'sepal_width': {0: 3.5,\n",
    "                 1: 3.0,\n",
    "                 2: 3.2000000000000002,\n",
    "                 3: 3.1000000000000001,\n",
    "                 4: 3.6000000000000001,\n",
    "                 5: 3.8999999999999999,\n",
    "                 6: 3.3999999999999999,\n",
    "                 7: 3.3999999999999999,\n",
    "                 8: 2.8999999999999999,\n",
    "                 9: 3.1000000000000001},\n",
    " 'species': {0: 'setosa',\n",
    "             1: 'setosa',\n",
    "             2: 'setosa',\n",
    "             3: 'setosa',\n",
    "             4: 'setosa',\n",
    "             5: 'setosa',\n",
    "             6: 'setosa',\n",
    "             7: 'setosa',\n",
    "             8: 'setosa',\n",
    "             9: 'setosa'}}"
   ]
  },
  {
   "cell_type": "code",
   "execution_count": 57,
   "metadata": {
    "collapsed": false
   },
   "outputs": [
    {
     "data": {
      "text/html": [
       "<div>\n",
       "<style>\n",
       "    .dataframe thead tr:only-child th {\n",
       "        text-align: right;\n",
       "    }\n",
       "\n",
       "    .dataframe thead th {\n",
       "        text-align: left;\n",
       "    }\n",
       "\n",
       "    .dataframe tbody tr th {\n",
       "        vertical-align: top;\n",
       "    }\n",
       "</style>\n",
       "<table border=\"1\" class=\"dataframe\">\n",
       "  <thead>\n",
       "    <tr style=\"text-align: right;\">\n",
       "      <th></th>\n",
       "      <th>petal_length</th>\n",
       "      <th>petal_width</th>\n",
       "      <th>sepal_length</th>\n",
       "      <th>sepal_width</th>\n",
       "      <th>species</th>\n",
       "    </tr>\n",
       "  </thead>\n",
       "  <tbody>\n",
       "    <tr>\n",
       "      <th>0</th>\n",
       "      <td>1.4</td>\n",
       "      <td>0.2</td>\n",
       "      <td>5.1</td>\n",
       "      <td>3.5</td>\n",
       "      <td>setosa</td>\n",
       "    </tr>\n",
       "    <tr>\n",
       "      <th>1</th>\n",
       "      <td>1.4</td>\n",
       "      <td>0.2</td>\n",
       "      <td>4.9</td>\n",
       "      <td>3.0</td>\n",
       "      <td>setosa</td>\n",
       "    </tr>\n",
       "    <tr>\n",
       "      <th>2</th>\n",
       "      <td>1.3</td>\n",
       "      <td>0.2</td>\n",
       "      <td>4.7</td>\n",
       "      <td>3.2</td>\n",
       "      <td>setosa</td>\n",
       "    </tr>\n",
       "    <tr>\n",
       "      <th>3</th>\n",
       "      <td>1.5</td>\n",
       "      <td>0.2</td>\n",
       "      <td>4.6</td>\n",
       "      <td>3.1</td>\n",
       "      <td>setosa</td>\n",
       "    </tr>\n",
       "    <tr>\n",
       "      <th>4</th>\n",
       "      <td>1.4</td>\n",
       "      <td>0.2</td>\n",
       "      <td>5.0</td>\n",
       "      <td>3.6</td>\n",
       "      <td>setosa</td>\n",
       "    </tr>\n",
       "  </tbody>\n",
       "</table>\n",
       "</div>"
      ],
      "text/plain": [
       "   petal_length  petal_width  sepal_length  sepal_width species\n",
       "0           1.4          0.2           5.1          3.5  setosa\n",
       "1           1.4          0.2           4.9          3.0  setosa\n",
       "2           1.3          0.2           4.7          3.2  setosa\n",
       "3           1.5          0.2           4.6          3.1  setosa\n",
       "4           1.4          0.2           5.0          3.6  setosa"
      ]
     },
     "execution_count": 57,
     "metadata": {},
     "output_type": "execute_result"
    }
   ],
   "source": [
    "import pandas as pd\n",
    "iris_df = pd.DataFrame(iris_dict)\n",
    "iris_df.head()"
   ]
  },
  {
   "cell_type": "markdown",
   "metadata": {},
   "source": [
    "### Q. 2: How many columns/features do we have in our dataframe? What are they?"
   ]
  },
  {
   "cell_type": "code",
   "execution_count": 37,
   "metadata": {
    "collapsed": false
   },
   "outputs": [
    {
     "name": "stdout",
     "output_type": "stream",
     "text": [
      "number of columns: 5\n",
      "column names: ['petal_length', 'petal_width', 'sepal_length', 'sepal_width', 'species']\n"
     ]
    }
   ],
   "source": [
    "print('number of columns:',len(iris_df.columns))\n",
    "print('column names:',list(iris_df.columns))"
   ]
  },
  {
   "cell_type": "markdown",
   "metadata": {},
   "source": [
    "### Q. 3: Select the column 'petal_length' and save it to a variable:"
   ]
  },
  {
   "cell_type": "code",
   "execution_count": 29,
   "metadata": {
    "collapsed": false
   },
   "outputs": [
    {
     "data": {
      "text/plain": [
       "0    1.4\n",
       "1    1.4\n",
       "2    1.3\n",
       "3    1.5\n",
       "4    1.4\n",
       "5    1.7\n",
       "6    1.4\n",
       "7    1.5\n",
       "8    1.4\n",
       "9    1.5\n",
       "Name: petal_length, dtype: float64"
      ]
     },
     "execution_count": 29,
     "metadata": {},
     "output_type": "execute_result"
    }
   ],
   "source": [
    "petal_length = iris_df.petal_length\n",
    "petal_length\n",
    "\n",
    "# or:\n",
    "\n",
    "petal_length = iris_df['petal_length']\n",
    "petal_length"
   ]
  },
  {
   "cell_type": "markdown",
   "metadata": {},
   "source": [
    "### Q. 4: Select columns 'petal length', 'petal width', and 'species' and save it to a separate variable (which is itself another dataframe):"
   ]
  },
  {
   "cell_type": "code",
   "execution_count": 52,
   "metadata": {
    "collapsed": false
   },
   "outputs": [
    {
     "data": {
      "text/html": [
       "<div>\n",
       "<style>\n",
       "    .dataframe thead tr:only-child th {\n",
       "        text-align: right;\n",
       "    }\n",
       "\n",
       "    .dataframe thead th {\n",
       "        text-align: left;\n",
       "    }\n",
       "\n",
       "    .dataframe tbody tr th {\n",
       "        vertical-align: top;\n",
       "    }\n",
       "</style>\n",
       "<table border=\"1\" class=\"dataframe\">\n",
       "  <thead>\n",
       "    <tr style=\"text-align: right;\">\n",
       "      <th></th>\n",
       "      <th>petal_length</th>\n",
       "      <th>petal_width</th>\n",
       "      <th>species</th>\n",
       "    </tr>\n",
       "  </thead>\n",
       "  <tbody>\n",
       "    <tr>\n",
       "      <th>0</th>\n",
       "      <td>1.4</td>\n",
       "      <td>0.2</td>\n",
       "      <td>setosa</td>\n",
       "    </tr>\n",
       "    <tr>\n",
       "      <th>1</th>\n",
       "      <td>1.4</td>\n",
       "      <td>0.2</td>\n",
       "      <td>setosa</td>\n",
       "    </tr>\n",
       "    <tr>\n",
       "      <th>2</th>\n",
       "      <td>1.3</td>\n",
       "      <td>0.2</td>\n",
       "      <td>setosa</td>\n",
       "    </tr>\n",
       "    <tr>\n",
       "      <th>3</th>\n",
       "      <td>1.5</td>\n",
       "      <td>0.2</td>\n",
       "      <td>setosa</td>\n",
       "    </tr>\n",
       "    <tr>\n",
       "      <th>4</th>\n",
       "      <td>1.4</td>\n",
       "      <td>0.2</td>\n",
       "      <td>setosa</td>\n",
       "    </tr>\n",
       "    <tr>\n",
       "      <th>5</th>\n",
       "      <td>1.7</td>\n",
       "      <td>0.4</td>\n",
       "      <td>setosa</td>\n",
       "    </tr>\n",
       "    <tr>\n",
       "      <th>6</th>\n",
       "      <td>1.4</td>\n",
       "      <td>0.3</td>\n",
       "      <td>setosa</td>\n",
       "    </tr>\n",
       "    <tr>\n",
       "      <th>7</th>\n",
       "      <td>1.5</td>\n",
       "      <td>0.2</td>\n",
       "      <td>setosa</td>\n",
       "    </tr>\n",
       "    <tr>\n",
       "      <th>8</th>\n",
       "      <td>1.4</td>\n",
       "      <td>0.2</td>\n",
       "      <td>setosa</td>\n",
       "    </tr>\n",
       "    <tr>\n",
       "      <th>9</th>\n",
       "      <td>1.5</td>\n",
       "      <td>0.1</td>\n",
       "      <td>setosa</td>\n",
       "    </tr>\n",
       "  </tbody>\n",
       "</table>\n",
       "</div>"
      ],
      "text/plain": [
       "   petal_length  petal_width species\n",
       "0           1.4          0.2  setosa\n",
       "1           1.4          0.2  setosa\n",
       "2           1.3          0.2  setosa\n",
       "3           1.5          0.2  setosa\n",
       "4           1.4          0.2  setosa\n",
       "5           1.7          0.4  setosa\n",
       "6           1.4          0.3  setosa\n",
       "7           1.5          0.2  setosa\n",
       "8           1.4          0.2  setosa\n",
       "9           1.5          0.1  setosa"
      ]
     },
     "execution_count": 52,
     "metadata": {},
     "output_type": "execute_result"
    }
   ],
   "source": [
    "petal_df = iris_df[['petal_length', 'petal_width', 'species']]\n",
    "petal_df"
   ]
  },
  {
   "cell_type": "markdown",
   "metadata": {},
   "source": [
    "### Q. 5: From the main iris_df dataframe, select the first 5 rows:"
   ]
  },
  {
   "cell_type": "code",
   "execution_count": 34,
   "metadata": {
    "collapsed": false
   },
   "outputs": [
    {
     "data": {
      "text/html": [
       "<div>\n",
       "<style>\n",
       "    .dataframe thead tr:only-child th {\n",
       "        text-align: right;\n",
       "    }\n",
       "\n",
       "    .dataframe thead th {\n",
       "        text-align: left;\n",
       "    }\n",
       "\n",
       "    .dataframe tbody tr th {\n",
       "        vertical-align: top;\n",
       "    }\n",
       "</style>\n",
       "<table border=\"1\" class=\"dataframe\">\n",
       "  <thead>\n",
       "    <tr style=\"text-align: right;\">\n",
       "      <th></th>\n",
       "      <th>petal_length</th>\n",
       "      <th>petal_width</th>\n",
       "      <th>sepal_length</th>\n",
       "      <th>sepal_width</th>\n",
       "      <th>species</th>\n",
       "    </tr>\n",
       "  </thead>\n",
       "  <tbody>\n",
       "    <tr>\n",
       "      <th>0</th>\n",
       "      <td>1.4</td>\n",
       "      <td>0.2</td>\n",
       "      <td>5.1</td>\n",
       "      <td>3.5</td>\n",
       "      <td>setosa</td>\n",
       "    </tr>\n",
       "    <tr>\n",
       "      <th>1</th>\n",
       "      <td>1.4</td>\n",
       "      <td>0.2</td>\n",
       "      <td>4.9</td>\n",
       "      <td>3.0</td>\n",
       "      <td>setosa</td>\n",
       "    </tr>\n",
       "    <tr>\n",
       "      <th>2</th>\n",
       "      <td>1.3</td>\n",
       "      <td>0.2</td>\n",
       "      <td>4.7</td>\n",
       "      <td>3.2</td>\n",
       "      <td>setosa</td>\n",
       "    </tr>\n",
       "    <tr>\n",
       "      <th>3</th>\n",
       "      <td>1.5</td>\n",
       "      <td>0.2</td>\n",
       "      <td>4.6</td>\n",
       "      <td>3.1</td>\n",
       "      <td>setosa</td>\n",
       "    </tr>\n",
       "    <tr>\n",
       "      <th>4</th>\n",
       "      <td>1.4</td>\n",
       "      <td>0.2</td>\n",
       "      <td>5.0</td>\n",
       "      <td>3.6</td>\n",
       "      <td>setosa</td>\n",
       "    </tr>\n",
       "  </tbody>\n",
       "</table>\n",
       "</div>"
      ],
      "text/plain": [
       "   petal_length  petal_width  sepal_length  sepal_width species\n",
       "0           1.4          0.2           5.1          3.5  setosa\n",
       "1           1.4          0.2           4.9          3.0  setosa\n",
       "2           1.3          0.2           4.7          3.2  setosa\n",
       "3           1.5          0.2           4.6          3.1  setosa\n",
       "4           1.4          0.2           5.0          3.6  setosa"
      ]
     },
     "execution_count": 34,
     "metadata": {},
     "output_type": "execute_result"
    }
   ],
   "source": [
    "iris_df.iloc[0:5]"
   ]
  },
  {
   "cell_type": "markdown",
   "metadata": {},
   "source": [
    "### Q. 6: What is the sum of sepal_width? What is the mean sepal_length?"
   ]
  },
  {
   "cell_type": "code",
   "execution_count": 39,
   "metadata": {
    "collapsed": false
   },
   "outputs": [
    {
     "name": "stdout",
     "output_type": "stream",
     "text": [
      "sepal_width total: 33.1\n",
      "average sepal_length: 4.86\n"
     ]
    }
   ],
   "source": [
    "print('sepal_width total:',sum(iris_df.sepal_width))\n",
    "print('average sepal_length:',(sum(iris_df.sepal_length))/len(iris_df.sepal_length))"
   ]
  },
  {
   "cell_type": "markdown",
   "metadata": {},
   "source": [
    "### Q. 7: Add a new column to the iris dataframe that represents petal area (length * width):"
   ]
  },
  {
   "cell_type": "code",
   "execution_count": 62,
   "metadata": {
    "collapsed": false
   },
   "outputs": [
    {
     "data": {
      "text/html": [
       "<div>\n",
       "<style>\n",
       "    .dataframe thead tr:only-child th {\n",
       "        text-align: right;\n",
       "    }\n",
       "\n",
       "    .dataframe thead th {\n",
       "        text-align: left;\n",
       "    }\n",
       "\n",
       "    .dataframe tbody tr th {\n",
       "        vertical-align: top;\n",
       "    }\n",
       "</style>\n",
       "<table border=\"1\" class=\"dataframe\">\n",
       "  <thead>\n",
       "    <tr style=\"text-align: right;\">\n",
       "      <th></th>\n",
       "      <th>petal_length</th>\n",
       "      <th>petal_width</th>\n",
       "      <th>sepal_length</th>\n",
       "      <th>sepal_width</th>\n",
       "      <th>species</th>\n",
       "      <th>petal_area</th>\n",
       "    </tr>\n",
       "  </thead>\n",
       "  <tbody>\n",
       "    <tr>\n",
       "      <th>0</th>\n",
       "      <td>1.4</td>\n",
       "      <td>0.2</td>\n",
       "      <td>5.1</td>\n",
       "      <td>3.5</td>\n",
       "      <td>setosa</td>\n",
       "      <td>0.28</td>\n",
       "    </tr>\n",
       "    <tr>\n",
       "      <th>1</th>\n",
       "      <td>1.4</td>\n",
       "      <td>0.2</td>\n",
       "      <td>4.9</td>\n",
       "      <td>3.0</td>\n",
       "      <td>setosa</td>\n",
       "      <td>0.28</td>\n",
       "    </tr>\n",
       "    <tr>\n",
       "      <th>2</th>\n",
       "      <td>1.3</td>\n",
       "      <td>0.2</td>\n",
       "      <td>4.7</td>\n",
       "      <td>3.2</td>\n",
       "      <td>setosa</td>\n",
       "      <td>0.26</td>\n",
       "    </tr>\n",
       "    <tr>\n",
       "      <th>3</th>\n",
       "      <td>1.5</td>\n",
       "      <td>0.2</td>\n",
       "      <td>4.6</td>\n",
       "      <td>3.1</td>\n",
       "      <td>setosa</td>\n",
       "      <td>0.30</td>\n",
       "    </tr>\n",
       "    <tr>\n",
       "      <th>4</th>\n",
       "      <td>1.4</td>\n",
       "      <td>0.2</td>\n",
       "      <td>5.0</td>\n",
       "      <td>3.6</td>\n",
       "      <td>setosa</td>\n",
       "      <td>0.28</td>\n",
       "    </tr>\n",
       "    <tr>\n",
       "      <th>5</th>\n",
       "      <td>1.7</td>\n",
       "      <td>0.4</td>\n",
       "      <td>5.4</td>\n",
       "      <td>3.9</td>\n",
       "      <td>setosa</td>\n",
       "      <td>0.68</td>\n",
       "    </tr>\n",
       "    <tr>\n",
       "      <th>6</th>\n",
       "      <td>1.4</td>\n",
       "      <td>0.3</td>\n",
       "      <td>4.6</td>\n",
       "      <td>3.4</td>\n",
       "      <td>setosa</td>\n",
       "      <td>0.42</td>\n",
       "    </tr>\n",
       "    <tr>\n",
       "      <th>7</th>\n",
       "      <td>1.5</td>\n",
       "      <td>0.2</td>\n",
       "      <td>5.0</td>\n",
       "      <td>3.4</td>\n",
       "      <td>setosa</td>\n",
       "      <td>0.30</td>\n",
       "    </tr>\n",
       "    <tr>\n",
       "      <th>8</th>\n",
       "      <td>1.4</td>\n",
       "      <td>0.2</td>\n",
       "      <td>4.4</td>\n",
       "      <td>2.9</td>\n",
       "      <td>setosa</td>\n",
       "      <td>0.28</td>\n",
       "    </tr>\n",
       "    <tr>\n",
       "      <th>9</th>\n",
       "      <td>1.5</td>\n",
       "      <td>0.1</td>\n",
       "      <td>4.9</td>\n",
       "      <td>3.1</td>\n",
       "      <td>setosa</td>\n",
       "      <td>0.15</td>\n",
       "    </tr>\n",
       "  </tbody>\n",
       "</table>\n",
       "</div>"
      ],
      "text/plain": [
       "   petal_length  petal_width  sepal_length  sepal_width species  petal_area\n",
       "0           1.4          0.2           5.1          3.5  setosa        0.28\n",
       "1           1.4          0.2           4.9          3.0  setosa        0.28\n",
       "2           1.3          0.2           4.7          3.2  setosa        0.26\n",
       "3           1.5          0.2           4.6          3.1  setosa        0.30\n",
       "4           1.4          0.2           5.0          3.6  setosa        0.28\n",
       "5           1.7          0.4           5.4          3.9  setosa        0.68\n",
       "6           1.4          0.3           4.6          3.4  setosa        0.42\n",
       "7           1.5          0.2           5.0          3.4  setosa        0.30\n",
       "8           1.4          0.2           4.4          2.9  setosa        0.28\n",
       "9           1.5          0.1           4.9          3.1  setosa        0.15"
      ]
     },
     "execution_count": 62,
     "metadata": {},
     "output_type": "execute_result"
    }
   ],
   "source": [
    "iris_df['petal_area'] = iris_df['petal_length']*iris_df['petal_width']\n",
    "iris_df"
   ]
  },
  {
   "cell_type": "markdown",
   "metadata": {},
   "source": [
    "### Q. 8 - Return of the Dictionary\n",
    "\n",
    "Congratulations! You have been lucky enough to be selected as an intelligence analyst for a think tank that is dedicated to de-escalating nuclear risk to the United States. Given recent news, all eyes are on North Korea. This past July North Korea conducted two test flights for an alleged ICBM-class rocket, in addition to the recent detonation of an alleged hydrogen bomb. Both developments would significantly elevate the threat of their nuclear arsenal. Your new employer has asked you to conduct analyses to assess the developing risk facing U.S. cities given the rapid series of technological leaps in North Korea's nuclear program. \n",
    "\n",
    "Copy the following dictionary and list to your notebook and answer the remaining questions. Millions are counting on you:"
   ]
  },
  {
   "cell_type": "code",
   "execution_count": 64,
   "metadata": {
    "collapsed": true
   },
   "outputs": [],
   "source": [
    "US_cities = {'los angeles': {'population (millions)': 3.976, 'coordinates': '34.0522° N, 118.2437° W'},\n",
    "'san francisco': {'population (millions)': 0.864, 'coordinates': '37.7749° N, 122.4194° W'},\n",
    "'seattle': {'population (millions)': 0.704, 'coordinates': '47.6062° N, 122.3321° W'},\n",
    "'salt lake city': {'population (millions)': 0.193, 'coordinates': '40.7608° N, 111.8910° W'},\n",
    "'pittsburgh': {'population (millions)': 0.303, 'coordinates': '40.4406° N, 79.9959° W'},\n",
    "'chicago': {'population (millions)': 2.705, 'coordinates': '41.8781° N, 87.6298° W'},\n",
    "'new york city': {'population (millions)': 8.538, 'coordinates': '40.7128° N, 74.0059° W'},\n",
    "'portland': {'population (millions)': 0.639, 'coordinates': '45.5231° N, 122.6765° W'},\n",
    "'sacramento': {'population (millions)': 0.495, 'coordinates': '38.5816° N, 121.4944° W'},\n",
    "'las vegas': {'population (millions)': 0.632, 'coordinates': '36.1699° N, 115.1398° W'},\n",
    "'denver': {'population (millions)': 0.682, 'coordinates': '39.7392° N, 104.9903° W'}}\n",
    "\n",
    "cities_to_add = [['san diego', [1.407, '32.7157° N, 117.1611° W']],\n",
    "                ['san jose', [1.025, '37.3382° N, 121.8863° W']],\n",
    "                 ['new orleans', [0.391, '29.9511° N, 90.0715° W']],\n",
    "                ['washington dc', [0.681, '38.9072° N, 77.0369° W']],\n",
    "                ['miami', [0.453, '25.7617° N, 80.1918° W']]]"
   ]
  },
  {
   "cell_type": "markdown",
   "metadata": {},
   "source": [
    "### Q 8.1: programatically, add each city in 'cities_to_add' to the dictionary of US cities, then print out the total number of cities and their names:"
   ]
  },
  {
   "cell_type": "code",
   "execution_count": 71,
   "metadata": {
    "collapsed": false
   },
   "outputs": [
    {
     "name": "stdout",
     "output_type": "stream",
     "text": [
      "number of US cities: 16\n",
      "US cities: ['seattle', 'salt lake city', 'san diego', 'las vegas', 'san jose', 'portland', 'miami', 'chicago', 'new orleans', 'washington dc', 'denver', 'pittsburgh', 'sacramento', 'san francisco', 'new york city', 'los angeles']\n"
     ]
    }
   ],
   "source": [
    "for i in cities_to_add:\n",
    "    US_cities[(i[0])] = {'population (millions)': i[1][0], 'coordinates': i[1][1]}\n",
    "    \n",
    "print('number of US cities:',len(US_cities))\n",
    "print('US cities:',list(US_cities.keys()))"
   ]
  },
  {
   "cell_type": "markdown",
   "metadata": {},
   "source": [
    "### Q 8.2: Assume the worst case scenario: North Korea can hit and entirely destroy each city within our dictionary. How many casualties can we expect?:"
   ]
  },
  {
   "cell_type": "code",
   "execution_count": 73,
   "metadata": {
    "collapsed": false
   },
   "outputs": [
    {
     "name": "stdout",
     "output_type": "stream",
     "text": [
      "total casualties (millions): 23.69\n"
     ]
    }
   ],
   "source": [
    "count = 0\n",
    "for key in US_cities:\n",
    "    count += US_cities[key]['population (millions)']\n",
    "print('total casualties (millions):', round(count, 2))"
   ]
  },
  {
   "cell_type": "markdown",
   "metadata": {},
   "source": [
    "### Q 8.3: We would like to know how many cities North Korea can reach given their current (or potential) capabilities. Use the provided function (which calculates the Haversine distance between two points on a globe; see: https://en.wikipedia.org/wiki/Haversine_formula) to update the US_cities dictionary to include a key value pair that represents the distance between the launch site and each U.S. city. The key should be called 'rocket_distance' and the value should be a floating point integer.\n",
    "\n",
    "### note: intelligence sources reveal that the first supposed ICBM was launched from a site near Panghyon Airport (coordinates: [39.872126, -125.269258]); use this location as the assumed launch point when calculating distances."
   ]
  },
  {
   "cell_type": "code",
   "execution_count": 74,
   "metadata": {
    "collapsed": true
   },
   "outputs": [],
   "source": [
    "from math import radians, cos, sin, asin, sqrt\n",
    "def haversine(lon1, lat1, lon2, lat2):\n",
    "    \"\"\"\n",
    "    Calculate the great circle distance between two points\n",
    "    on the earth (specified in decimal degrees)\n",
    "    \"\"\"\n",
    "    # convert decimal degrees to radians\n",
    "    lon1, lat1, lon2, lat2 = map(radians, [lon1, lat1, lon2, lat2])\n",
    "    # haversine formula\n",
    "    dlon = lon2 - lon1\n",
    "    dlat = lat2 - lat1\n",
    "    a = sin(dlat/2)**2 + cos(lat1) * cos(lat2) * sin(dlon/2)**2\n",
    "    c = 2 * asin(sqrt(a))\n",
    "    km = 6367 * c\n",
    "    return km"
   ]
  },
  {
   "cell_type": "code",
   "execution_count": 76,
   "metadata": {
    "collapsed": false
   },
   "outputs": [
    {
     "name": "stdout",
     "output_type": "stream",
     "text": [
      "distance between chicago and NYC (km): 1143.58\n"
     ]
    }
   ],
   "source": [
    "# haversine usage example:\n",
    "chitown_coords = [41.8781, 87.6298]\n",
    "nyc_coords = [40.7128, 74.0059]\n",
    "\n",
    "###############################################################################################\n",
    "### important to note where longitude and latitude go when using the function via indexing: ###\n",
    "###############################################################################################\n",
    "\n",
    "chi_to_nyc_dist = haversine(chitown_coords[1],chitown_coords[0],nyc_coords[1],nyc_coords[0])\n",
    "print('distance between chicago and NYC (km):', round(chi_to_nyc_dist,2))"
   ]
  },
  {
   "cell_type": "markdown",
   "metadata": {},
   "source": [
    "### hint: notice that the value for the 'coordinates' key is a string containing extraneous information ('N', 'W', '°'); regular expressions often help us with string manipulation. see the following code for an example in how to strip a string of all values other than floating point digits:"
   ]
  },
  {
   "cell_type": "code",
   "execution_count": 77,
   "metadata": {
    "collapsed": false
   },
   "outputs": [
    {
     "data": {
      "text/plain": [
       "['3.33', '6.66']"
      ]
     },
     "execution_count": 77,
     "metadata": {},
     "output_type": "execute_result"
    }
   ],
   "source": [
    "import re\n",
    "string_with_useless_stuff = 'u$3le33, --3.33--, g4rb4g3, 6.66*'\n",
    "re.findall(\"\\d+\\.\\d+\", string_with_useless_stuff)"
   ]
  },
  {
   "cell_type": "code",
   "execution_count": 78,
   "metadata": {
    "collapsed": false
   },
   "outputs": [],
   "source": [
    "launch_coords = [39.872126, -125.269258]\n",
    "for key in US_cities:\n",
    "    current_city_coords = re.findall(\"\\d+\\.\\d+\", US_cities[key]['coordinates'])\n",
    "    launch_to_city_dist = haversine(float(current_city_coords[1]),float(current_city_coords[0]),launch_coords[1],launch_coords[0])\n",
    "    US_cities[key]['rocket_distance'] = round(launch_to_city_dist,2)"
   ]
  },
  {
   "cell_type": "code",
   "execution_count": 79,
   "metadata": {
    "collapsed": false
   },
   "outputs": [
    {
     "name": "stdout",
     "output_type": "stream",
     "text": [
      "{'chicago': {'coordinates': '41.8781° N, 87.6298° W',\n",
      "             'population (millions)': 2.705,\n",
      "             'rocket_distance': 10331.52},\n",
      " 'denver': {'coordinates': '39.7392° N, 104.9903° W',\n",
      "            'population (millions)': 0.682,\n",
      "            'rocket_distance': 9794.04},\n",
      " 'las vegas': {'coordinates': '36.1699° N, 115.1398° W',\n",
      "               'population (millions)': 0.632,\n",
      "               'rocket_distance': 9539.83},\n",
      " 'los angeles': {'coordinates': '34.0522° N, 118.2437° W',\n",
      "                 'population (millions)': 3.976,\n",
      "                 'rocket_distance': 9520.91},\n",
      " 'miami': {'coordinates': '25.7617° N, 80.1918° W',\n",
      "           'population (millions)': 0.453,\n",
      "           'rocket_distance': 12246.92},\n",
      " 'new orleans': {'coordinates': '29.9511° N, 90.0715° W',\n",
      "                 'population (millions)': 0.391,\n",
      "                 'rocket_distance': 11429.09},\n",
      " 'new york city': {'coordinates': '40.7128° N, 74.0059° W',\n",
      "                   'population (millions)': 8.538,\n",
      "                   'rocket_distance': 10837.59},\n",
      " 'pittsburgh': {'coordinates': '40.4406° N, 79.9959° W',\n",
      "                'population (millions)': 0.303,\n",
      "                'rocket_distance': 10718.4},\n",
      " 'portland': {'coordinates': '45.5231° N, 122.6765° W',\n",
      "              'population (millions)': 0.639,\n",
      "              'rocket_distance': 8356.07},\n",
      " 'sacramento': {'coordinates': '38.5816° N, 121.4944° W',\n",
      "                'population (millions)': 0.495,\n",
      "                'rocket_distance': 8958.16},\n",
      " 'salt lake city': {'coordinates': '40.7608° N, 111.8910° W',\n",
      "                    'population (millions)': 0.193,\n",
      "                    'rocket_distance': 9342.27},\n",
      " 'san diego': {'coordinates': '32.7157° N, 117.1611° W',\n",
      "               'population (millions)': 1.407,\n",
      "               'rocket_distance': 9697.93},\n",
      " 'san francisco': {'coordinates': '37.7749° N, 122.4194° W',\n",
      "                   'population (millions)': 0.864,\n",
      "                   'rocket_distance': 8962.68},\n",
      " 'san jose': {'coordinates': '37.3382° N, 121.8863° W',\n",
      "              'population (millions)': 1.025,\n",
      "              'rocket_distance': 9030.18},\n",
      " 'seattle': {'coordinates': '47.6062° N, 122.3321° W',\n",
      "             'population (millions)': 0.704,\n",
      "             'rocket_distance': 8219.01},\n",
      " 'washington dc': {'coordinates': '38.9072° N, 77.0369° W',\n",
      "                   'population (millions)': 0.681,\n",
      "                   'rocket_distance': 10959.27}}\n"
     ]
    }
   ],
   "source": [
    "import pprint\n",
    "pprint.pprint(US_cities)"
   ]
  },
  {
   "cell_type": "markdown",
   "metadata": {},
   "source": [
    "### Q 8.4: Let's assume that North Korea continues to make progress with its ICBM program and will soon have a range of 10,000 km. \n",
    "\n",
    "* How many US cities are at risk? \n",
    "* Print out a list of cities that are safe\n",
    "* Print out a list of cities that are at risk"
   ]
  },
  {
   "cell_type": "code",
   "execution_count": 84,
   "metadata": {
    "collapsed": false
   },
   "outputs": [
    {
     "name": "stdout",
     "output_type": "stream",
     "text": [
      "number of cities at risk: 10\n",
      "list of cities that are safe: ['miami', 'chicago', 'new orleans', 'washington dc', 'pittsburgh', 'new york city']\n",
      "list of cities at risk: ['seattle', 'salt lake city', 'san diego', 'las vegas', 'san jose', 'portland', 'denver', 'sacramento', 'san francisco', 'los angeles']\n"
     ]
    }
   ],
   "source": [
    "cities_at_risk = []\n",
    "cities_safe = []\n",
    "\n",
    "rocket_range = 10000\n",
    "\n",
    "for key in US_cities:\n",
    "    if US_cities[key]['rocket_distance'] < rocket_range:\n",
    "        cities_at_risk.append(key)\n",
    "    else:\n",
    "        cities_safe.append(key)\n",
    "print('number of cities at risk:',len(cities_at_risk))\n",
    "print('list of cities that are safe:', cities_safe)\n",
    "print('list of cities at risk:', cities_at_risk)"
   ]
  },
  {
   "cell_type": "markdown",
   "metadata": {},
   "source": [
    "### Q 8.5: Given the results of the analysis in Q1.4, calculate how many casualties would be expected given a strike against every city at risk. Assume that their weapons would be capable of destroying 25% of each city (population):"
   ]
  },
  {
   "cell_type": "code",
   "execution_count": 83,
   "metadata": {
    "collapsed": false
   },
   "outputs": [
    {
     "name": "stdout",
     "output_type": "stream",
     "text": [
      "projected casualties (million): 2.65\n"
     ]
    }
   ],
   "source": [
    "risk_city_count = 0\n",
    "for key in US_cities:\n",
    "    if key in cities_at_risk:\n",
    "        risk_city_count += (US_cities[key]['population (millions)'])*0.25\n",
    "print('projected casualties (million):', round(risk_city_count, 2))"
   ]
  }
 ],
 "metadata": {
  "anaconda-cloud": {},
  "kernelspec": {
   "display_name": "Python [py35]",
   "language": "python",
   "name": "Python [py35]"
  },
  "language_info": {
   "codemirror_mode": {
    "name": "ipython",
    "version": 3
   },
   "file_extension": ".py",
   "mimetype": "text/x-python",
   "name": "python",
   "nbconvert_exporter": "python",
   "pygments_lexer": "ipython3",
   "version": "3.5.3"
  }
 },
 "nbformat": 4,
 "nbformat_minor": 0
}
