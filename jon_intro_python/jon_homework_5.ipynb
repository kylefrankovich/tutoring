{
 "cells": [
  {
   "cell_type": "markdown",
   "metadata": {},
   "source": [
    "## Homework following intro to python lesson 5\n",
    "### In lesson five, we covered:\n",
    "* intro to datetime\n",
    "* intro to linear regression w/ python\n",
    "***"
   ]
  },
  {
   "cell_type": "markdown",
   "metadata": {},
   "source": [
    "### Q. 1: Load the apple data from the last homework ('apple.csv') and use datetime to answer the following questions:\n",
    "\n",
    "* what is the mean opening price for apple stock from January through March?\n",
    "* how many days closed higher than 143 in April of 2016?\n",
    "* generate a plot of the closing price for Apple stock from May through August\n",
    "* plot the *mean* closing prices by month for the same time period"
   ]
  },
  {
   "cell_type": "code",
   "execution_count": null,
   "metadata": {
    "collapsed": true
   },
   "outputs": [],
   "source": []
  },
  {
   "cell_type": "markdown",
   "metadata": {},
   "source": [
    "### Q. 2: Load the Boston housing dataset from session 4 to answer the following linear regression questions:\n",
    "\n",
    "* is AGE a significant predictor of median home value?\n",
    "* how much variance does age account for in this simple model?\n",
    "* generate a scatterplot w/ the linear regression line representing age as a predictor of home value\n",
    "* use this simple model to generate a predicted value for a home that is 64 years old\n",
    "* perform a multiple linear regression analysis w/ the following features: CRIM, NOX, AGE, DIS, TAX, and INDUS\n",
    "    * be prepared to discuss this more complex model compared to the simple age model"
   ]
  },
  {
   "cell_type": "code",
   "execution_count": null,
   "metadata": {
    "collapsed": true
   },
   "outputs": [],
   "source": []
  }
 ],
 "metadata": {
  "kernelspec": {
   "display_name": "Python [py35]",
   "language": "python",
   "name": "Python [py35]"
  },
  "language_info": {
   "codemirror_mode": {
    "name": "ipython",
    "version": 3
   },
   "file_extension": ".py",
   "mimetype": "text/x-python",
   "name": "python",
   "nbconvert_exporter": "python",
   "pygments_lexer": "ipython3",
   "version": "3.5.3"
  }
 },
 "nbformat": 4,
 "nbformat_minor": 0
}
