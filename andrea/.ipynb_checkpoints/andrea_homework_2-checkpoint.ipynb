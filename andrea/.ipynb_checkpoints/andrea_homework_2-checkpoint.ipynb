{
 "cells": [
  {
   "cell_type": "markdown",
   "metadata": {},
   "source": [
    "## Homework following intro to python lesson 2\n",
    "### In lesson two, we covered:\n",
    "* getting a jupyter notebook up and running\n",
    "* importing pandas\n",
    "* creating a dataframe\n",
    "* indexing in pandas (columns and rows)\n",
    "* operations (ex: sum) for rows/columns\n",
    "* adding new columns\n",
    "* concatenating dataframes\n",
    "***"
   ]
  },
  {
   "cell_type": "markdown",
   "metadata": {},
   "source": [
    "#### Homework 2 picks up with the remaining questions from homework 1:\n",
    "\n",
    "6 C: add a new key/value pair for each student that represents their\n",
    "final grade (average of their 3 exam scores)\n",
    "\n",
    "\n",
    "6 D: what is the class average for 8th graders? 9th graders?\n"
   ]
  },
  {
   "cell_type": "markdown",
   "metadata": {},
   "source": [
    "### Homework 2:\n",
    "\n",
    "To begin homework 2, launch a new jupyter notebook (or use this one). Answer each question, copying over code from this notebook where necessary."
   ]
  },
  {
   "cell_type": "markdown",
   "metadata": {},
   "source": [
    "### Q. 1: Import pandas and convert the dictionary below to a dataframe object called 'iris_df':"
   ]
  },
  {
   "cell_type": "code",
   "execution_count": null,
   "metadata": {
    "collapsed": false
   },
   "outputs": [],
   "source": [
    "iris_dict = {'petal_length': {0: 1.3999999999999999,\n",
    "                  1: 1.3999999999999999,\n",
    "                  2: 1.3,\n",
    "                  3: 1.5,\n",
    "                  4: 1.3999999999999999,\n",
    "                  5: 1.7,\n",
    "                  6: 1.3999999999999999,\n",
    "                  7: 1.5,\n",
    "                  8: 1.3999999999999999,\n",
    "                  9: 1.5},\n",
    " 'petal_width': {0: 0.20000000000000001,\n",
    "                 1: 0.20000000000000001,\n",
    "                 2: 0.20000000000000001,\n",
    "                 3: 0.20000000000000001,\n",
    "                 4: 0.20000000000000001,\n",
    "                 5: 0.40000000000000002,\n",
    "                 6: 0.29999999999999999,\n",
    "                 7: 0.20000000000000001,\n",
    "                 8: 0.20000000000000001,\n",
    "                 9: 0.10000000000000001},\n",
    " 'sepal_length': {0: 5.0999999999999996,\n",
    "                  1: 4.9000000000000004,\n",
    "                  2: 4.7000000000000002,\n",
    "                  3: 4.5999999999999996,\n",
    "                  4: 5.0,\n",
    "                  5: 5.4000000000000004,\n",
    "                  6: 4.5999999999999996,\n",
    "                  7: 5.0,\n",
    "                  8: 4.4000000000000004,\n",
    "                  9: 4.9000000000000004},\n",
    " 'sepal_width': {0: 3.5,\n",
    "                 1: 3.0,\n",
    "                 2: 3.2000000000000002,\n",
    "                 3: 3.1000000000000001,\n",
    "                 4: 3.6000000000000001,\n",
    "                 5: 3.8999999999999999,\n",
    "                 6: 3.3999999999999999,\n",
    "                 7: 3.3999999999999999,\n",
    "                 8: 2.8999999999999999,\n",
    "                 9: 3.1000000000000001},\n",
    " 'species': {0: 'setosa',\n",
    "             1: 'setosa',\n",
    "             2: 'setosa',\n",
    "             3: 'setosa',\n",
    "             4: 'setosa',\n",
    "             5: 'setosa',\n",
    "             6: 'setosa',\n",
    "             7: 'setosa',\n",
    "             8: 'setosa',\n",
    "             9: 'setosa'}}"
   ]
  },
  {
   "cell_type": "code",
   "execution_count": null,
   "metadata": {
    "collapsed": false
   },
   "outputs": [],
   "source": []
  },
  {
   "cell_type": "markdown",
   "metadata": {},
   "source": [
    "### Q. 2: How many columns/features do we have in our dataframe? What are they?"
   ]
  },
  {
   "cell_type": "code",
   "execution_count": null,
   "metadata": {
    "collapsed": false
   },
   "outputs": [],
   "source": []
  },
  {
   "cell_type": "markdown",
   "metadata": {},
   "source": [
    "### Q. 3: Select the column 'petal_length' and save it to a variable:"
   ]
  },
  {
   "cell_type": "code",
   "execution_count": null,
   "metadata": {
    "collapsed": false
   },
   "outputs": [],
   "source": []
  },
  {
   "cell_type": "markdown",
   "metadata": {},
   "source": [
    "### Q. 4: Select columns 'petal length', 'petal width', and 'species' and save it to a separate variable (which is itself another dataframe):"
   ]
  },
  {
   "cell_type": "code",
   "execution_count": null,
   "metadata": {
    "collapsed": false
   },
   "outputs": [],
   "source": []
  },
  {
   "cell_type": "markdown",
   "metadata": {},
   "source": [
    "### Q. 5: From the main iris_df dataframe, select the first 5 rows:"
   ]
  },
  {
   "cell_type": "code",
   "execution_count": null,
   "metadata": {
    "collapsed": false
   },
   "outputs": [],
   "source": []
  },
  {
   "cell_type": "markdown",
   "metadata": {},
   "source": [
    "### Q. 6: What is the sum of sepal_width? What is the mean sepal_length?"
   ]
  },
  {
   "cell_type": "code",
   "execution_count": null,
   "metadata": {
    "collapsed": false
   },
   "outputs": [],
   "source": []
  },
  {
   "cell_type": "markdown",
   "metadata": {},
   "source": [
    "### Q. 7: Add a new column to the iris dataframe that represents petal area (length * width):"
   ]
  },
  {
   "cell_type": "code",
   "execution_count": null,
   "metadata": {
    "collapsed": false
   },
   "outputs": [],
   "source": []
  },
  {
   "cell_type": "markdown",
   "metadata": {},
   "source": [
    "### Q. 8: Create a new dataframe from the following dictionary, and append it to the bottom of the original  dataframe from Q. 1:\n",
    "\n",
    "note: (you'll probably want to drop the calculated column from Q. 7 so that both dataframes are the same width)"
   ]
  },
  {
   "cell_type": "code",
   "execution_count": null,
   "metadata": {
    "collapsed": true
   },
   "outputs": [],
   "source": [
    "virginica_dict = {'petal_length': {100: 6.0,\n",
    "  101: 5.0999999999999996,\n",
    "  102: 5.9000000000000004,\n",
    "  103: 5.5999999999999996,\n",
    "  104: 5.7999999999999998,\n",
    "  105: 6.5999999999999996,\n",
    "  106: 4.5,\n",
    "  107: 6.2999999999999998,\n",
    "  108: 5.7999999999999998,\n",
    "  109: 6.0999999999999996},\n",
    " 'petal_width': {100: 2.5,\n",
    "  101: 1.8999999999999999,\n",
    "  102: 2.1000000000000001,\n",
    "  103: 1.8,\n",
    "  104: 2.2000000000000002,\n",
    "  105: 2.1000000000000001,\n",
    "  106: 1.7,\n",
    "  107: 1.8,\n",
    "  108: 1.8,\n",
    "  109: 2.5},\n",
    " 'sepal_length': {100: 6.2999999999999998,\n",
    "  101: 5.7999999999999998,\n",
    "  102: 7.0999999999999996,\n",
    "  103: 6.2999999999999998,\n",
    "  104: 6.5,\n",
    "  105: 7.5999999999999996,\n",
    "  106: 4.9000000000000004,\n",
    "  107: 7.2999999999999998,\n",
    "  108: 6.7000000000000002,\n",
    "  109: 7.2000000000000002},\n",
    " 'sepal_width': {100: 3.2999999999999998,\n",
    "  101: 2.7000000000000002,\n",
    "  102: 3.0,\n",
    "  103: 2.8999999999999999,\n",
    "  104: 3.0,\n",
    "  105: 3.0,\n",
    "  106: 2.5,\n",
    "  107: 2.8999999999999999,\n",
    "  108: 2.5,\n",
    "  109: 3.6000000000000001},\n",
    " 'species': {100: 'virginica',\n",
    "  101: 'virginica',\n",
    "  102: 'virginica',\n",
    "  103: 'virginica',\n",
    "  104: 'virginica',\n",
    "  105: 'virginica',\n",
    "  106: 'virginica',\n",
    "  107: 'virginica',\n",
    "  108: 'virginica',\n",
    "  109: 'virginica'}}"
   ]
  },
  {
   "cell_type": "markdown",
   "metadata": {},
   "source": [
    "### Q. 9 - Return of the Dictionary\n",
    "\n",
    "Congratulations! You have been lucky enough to be selected as an intelligence analyst for a think tank that is dedicated to de-escalating nuclear risk to the United States. Given recent news, all eyes are on North Korea. This past July North Korea conducted two test flights for an alleged ICBM-class rocket, in addition to the recent detonation of an alleged hydrogen bomb. Both developments would significantly elevate the threat of their nuclear arsenal. Your new employer has asked you to conduct analyses to assess the developing risk facing U.S. cities given the rapid series of technological leaps in North Korea's nuclear program. \n",
    "\n",
    "Use the following dictionary and list to answer the remaining questions. Millions are counting on you:"
   ]
  },
  {
   "cell_type": "code",
   "execution_count": null,
   "metadata": {
    "collapsed": true
   },
   "outputs": [],
   "source": [
    "US_cities = {'los angeles': {'population (millions)': 3.976, 'coordinates': '34.0522° N, 118.2437° W'},\n",
    "'san francisco': {'population (millions)': 0.864, 'coordinates': '37.7749° N, 122.4194° W'},\n",
    "'seattle': {'population (millions)': 0.704, 'coordinates': '47.6062° N, 122.3321° W'},\n",
    "'salt lake city': {'population (millions)': 0.193, 'coordinates': '40.7608° N, 111.8910° W'},\n",
    "'pittsburgh': {'population (millions)': 0.303, 'coordinates': '40.4406° N, 79.9959° W'},\n",
    "'chicago': {'population (millions)': 2.705, 'coordinates': '41.8781° N, 87.6298° W'},\n",
    "'new york city': {'population (millions)': 8.538, 'coordinates': '40.7128° N, 74.0059° W'},\n",
    "'portland': {'population (millions)': 0.639, 'coordinates': '45.5231° N, 122.6765° W'},\n",
    "'sacramento': {'population (millions)': 0.495, 'coordinates': '38.5816° N, 121.4944° W'},\n",
    "'las vegas': {'population (millions)': 0.632, 'coordinates': '36.1699° N, 115.1398° W'},\n",
    "'denver': {'population (millions)': 0.682, 'coordinates': '39.7392° N, 104.9903° W'}}\n",
    "\n",
    "cities_to_add = [['san diego', [1.407, '32.7157° N, 117.1611° W']],\n",
    "                ['san jose', [1.025, '37.3382° N, 121.8863° W']],\n",
    "                 ['new orleans', [0.391, '29.9511° N, 90.0715° W']],\n",
    "                ['washington dc', [0.681, '38.9072° N, 77.0369° W']],\n",
    "                ['miami', [0.453, '25.7617° N, 80.1918° W']]]"
   ]
  },
  {
   "cell_type": "markdown",
   "metadata": {},
   "source": [
    "### Q 9.1: programatically, add each city in 'cities_to_add' to the dictionary of US cities, then print out the total number of cities and their names:"
   ]
  },
  {
   "cell_type": "code",
   "execution_count": null,
   "metadata": {
    "collapsed": false
   },
   "outputs": [],
   "source": []
  },
  {
   "cell_type": "markdown",
   "metadata": {},
   "source": [
    "### Q 9.2: Assume the worst case scenario: North Korea can hit and entirely destroy each city within our dictionary. How many casualties can we expect?:"
   ]
  },
  {
   "cell_type": "code",
   "execution_count": null,
   "metadata": {
    "collapsed": false
   },
   "outputs": [],
   "source": []
  },
  {
   "cell_type": "markdown",
   "metadata": {},
   "source": [
    "### Q 9.3: We would like to know how many cities North Korea can reach given their current (or potential) capabilities. Use the provided function (which calculates the Haversine distance between two points on a globe; see: https://en.wikipedia.org/wiki/Haversine_formula) to update the US_cities dictionary to include a key value pair that represents the distance between the launch site and each U.S. city. The key should be called 'rocket_distance' and the value should be a floating point integer.\n",
    "\n",
    "### note: intelligence sources reveal that the first supposed ICBM was launched from a site near Panghyon Airport (coordinates: [39.872126, -125.269258]); use this location as the assumed launch point when calculating distances."
   ]
  },
  {
   "cell_type": "code",
   "execution_count": null,
   "metadata": {
    "collapsed": true
   },
   "outputs": [],
   "source": [
    "from math import radians, cos, sin, asin, sqrt\n",
    "def haversine(lon1, lat1, lon2, lat2):\n",
    "    \"\"\"\n",
    "    Calculate the great circle distance between two points\n",
    "    on the earth (specified in decimal degrees)\n",
    "    \"\"\"\n",
    "    # convert decimal degrees to radians\n",
    "    lon1, lat1, lon2, lat2 = map(radians, [lon1, lat1, lon2, lat2])\n",
    "    # haversine formula\n",
    "    dlon = lon2 - lon1\n",
    "    dlat = lat2 - lat1\n",
    "    a = sin(dlat/2)**2 + cos(lat1) * cos(lat2) * sin(dlon/2)**2\n",
    "    c = 2 * asin(sqrt(a))\n",
    "    km = 6367 * c\n",
    "    return km"
   ]
  },
  {
   "cell_type": "code",
   "execution_count": null,
   "metadata": {
    "collapsed": false
   },
   "outputs": [],
   "source": [
    "# haversine usage example:\n",
    "chitown_coords = [41.8781, 87.6298]\n",
    "nyc_coords = [40.7128, 74.0059]\n",
    "\n",
    "###############################################################################################\n",
    "### important to note where longitude and latitude go when using the function via indexing: ###\n",
    "###############################################################################################\n",
    "\n",
    "chi_to_nyc_dist = haversine(chitown_coords[1],chitown_coords[0],nyc_coords[1],nyc_coords[0])\n",
    "print('distance between chicago and NYC (km):', round(chi_to_nyc_dist,2)) # feel free to double check the haversine disance on google"
   ]
  },
  {
   "cell_type": "markdown",
   "metadata": {},
   "source": [
    "### hint: notice that the value for the 'coordinates' key is a string containing extraneous information ('N', 'W', '°'); regular expressions often help us with string manipulation. see the following code for an example in how to strip a string of all values other than floating point digits:"
   ]
  },
  {
   "cell_type": "code",
   "execution_count": null,
   "metadata": {
    "collapsed": false
   },
   "outputs": [],
   "source": [
    "import re\n",
    "string_with_useless_stuff = 'u$3le33, --3.33--, g4rb4g3, 6.66*'\n",
    "re.findall(\"\\d+\\.\\d+\", string_with_useless_stuff)"
   ]
  },
  {
   "cell_type": "code",
   "execution_count": null,
   "metadata": {
    "collapsed": false
   },
   "outputs": [],
   "source": []
  },
  {
   "cell_type": "markdown",
   "metadata": {},
   "source": [
    "### Q 9.4: Let's assume that North Korea continues to make progress with its ICBM program and will soon have a range of 10,000 km. \n",
    "\n",
    "* How many US cities are at risk? \n",
    "* Print out a list of cities that are safe\n",
    "* Print out a list of cities that are at risk"
   ]
  },
  {
   "cell_type": "code",
   "execution_count": null,
   "metadata": {
    "collapsed": false
   },
   "outputs": [],
   "source": []
  },
  {
   "cell_type": "markdown",
   "metadata": {},
   "source": [
    "### Q 9.5: Given the results of the analysis in Q1.4, calculate how many casualties would be expected given a strike against every city at risk. Assume that their weapons would be capable of destroying 25% of each city (population):"
   ]
  },
  {
   "cell_type": "code",
   "execution_count": null,
   "metadata": {
    "collapsed": false
   },
   "outputs": [],
   "source": []
  }
 ],
 "metadata": {
  "anaconda-cloud": {},
  "kernelspec": {
   "display_name": "Python [py35]",
   "language": "python",
   "name": "Python [py35]"
  },
  "language_info": {
   "codemirror_mode": {
    "name": "ipython",
    "version": 3
   },
   "file_extension": ".py",
   "mimetype": "text/x-python",
   "name": "python",
   "nbconvert_exporter": "python",
   "pygments_lexer": "ipython3",
   "version": "3.5.3"
  }
 },
 "nbformat": 4,
 "nbformat_minor": 0
}
