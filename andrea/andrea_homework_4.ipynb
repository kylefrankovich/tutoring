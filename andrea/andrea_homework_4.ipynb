{
 "cells": [
  {
   "cell_type": "markdown",
   "metadata": {},
   "source": [
    "## Homework following intro to python lesson 4\n",
    "### In lesson four, we covered:\n",
    "* Boston housing dataset\n",
    "* histograms\n",
    "* adding axis labels/titles/text to plots\n",
    "* adjusting bins\n",
    "* scatterplots\n",
    "* adding regression lines w/ seaborn\n",
    "* bar plots\n",
    "* line plots\n",
    "* downloading and using new modules through the command line (pip install)\n",
    "***"
   ]
  },
  {
   "cell_type": "markdown",
   "metadata": {},
   "source": [
    "### Homework 4: Wall Street\n",
    "#### Load the attached dataframes where necessary ('apple.csv', 'apple_google_amazon_close.csv' ) to answer all stock related questions; the data is stockmarket data for tech stocks from January 1st of 2017 to present\n",
    "***"
   ]
  },
  {
   "cell_type": "markdown",
   "metadata": {},
   "source": [
    "### Q. 1: Load in the stock dataframe contained within the file 'apple_google_amazon_close.csv'; generate a line plot for all three stocks:"
   ]
  },
  {
   "cell_type": "code",
   "execution_count": null,
   "metadata": {},
   "outputs": [],
   "source": []
  },
  {
   "cell_type": "markdown",
   "metadata": {},
   "source": [
    "### Q. 2: Let's focus in on one of our stocks. Load the apple data ('apple.csv') and briefly explore it; what are our features? how many observations do we have? what does the dataframe look like?"
   ]
  },
  {
   "cell_type": "code",
   "execution_count": null,
   "metadata": {},
   "outputs": [],
   "source": []
  },
  {
   "cell_type": "markdown",
   "metadata": {},
   "source": [
    "### Q. 3: Generate a line plot that displays the closing price for apple from our entire apple dataset; include axis labels and a plot label:"
   ]
  },
  {
   "cell_type": "code",
   "execution_count": null,
   "metadata": {
    "collapsed": true
   },
   "outputs": [],
   "source": []
  },
  {
   "cell_type": "markdown",
   "metadata": {},
   "source": [
    "### Q. 4: Let's break the data down by quarters. Create a bar graph showing the average closing stock price by quarter (quarters of all data to date, don't worry about actual financial quarters):"
   ]
  },
  {
   "cell_type": "code",
   "execution_count": null,
   "metadata": {},
   "outputs": [],
   "source": []
  },
  {
   "cell_type": "markdown",
   "metadata": {},
   "source": [
    "### Q. 5: We've been given access to a time machine that can take us back to any point within the past year. We can only return for 1 week (7 days). Given Apple's stock prices, tell me what day we should go back to in order to maximize our one time investment (i.e. when could we make the most amount of money by buying as much stock as possible one day and selling it within the next week?). Additionally, assume we raise 1 million dollars in investment funds before our time hop. How much stock can we purchase on our chosen day? How much will we profit given our sale?"
   ]
  },
  {
   "cell_type": "code",
   "execution_count": null,
   "metadata": {},
   "outputs": [],
   "source": []
  }
 ],
 "metadata": {
  "anaconda-cloud": {},
  "kernelspec": {
   "display_name": "Python 3",
   "language": "python",
   "name": "python3"
  },
  "language_info": {
   "codemirror_mode": {
    "name": "ipython",
    "version": 3
   },
   "file_extension": ".py",
   "mimetype": "text/x-python",
   "name": "python",
   "nbconvert_exporter": "python",
   "pygments_lexer": "ipython3",
   "version": "3.5.3"
  }
 },
 "nbformat": 4,
 "nbformat_minor": 1
}
